{
 "cells": [
  {
   "cell_type": "code",
   "execution_count": 47,
   "metadata": {},
   "outputs": [],
   "source": [
    "import pandas as pd\n",
    "import os"
   ]
  },
  {
   "cell_type": "code",
   "execution_count": 48,
   "metadata": {},
   "outputs": [],
   "source": [
    "directory = '/groups/gerlich/members/SofiaKolesnikova/Bookclub/'"
   ]
  },
  {
   "cell_type": "code",
   "execution_count": 42,
   "metadata": {},
   "outputs": [],
   "source": [
    "for filename in os.listdir(directory):\n",
    "    if filename.endswith(\".txt\"):\n",
    "        with open(filename) as f:\n",
    "            df = pd.read_csv(f, sep = '\\t')\n",
    "            df = pd.melt(df, id_vars = \"Absolute time\", var_name='trace')\n",
    "            df['trace'] = df['trace'].str.replace('Trace', '').astype('float')\n",
    "            df.to_csv(filename.split('.')[0] + '_tidy.csv', index = False)"
   ]
  },
  {
   "cell_type": "code",
   "execution_count": 49,
   "metadata": {},
   "outputs": [
    {
     "data": {
      "text/html": [
       "<div>\n",
       "<style scoped>\n",
       "    .dataframe tbody tr th:only-of-type {\n",
       "        vertical-align: middle;\n",
       "    }\n",
       "\n",
       "    .dataframe tbody tr th {\n",
       "        vertical-align: top;\n",
       "    }\n",
       "\n",
       "    .dataframe thead th {\n",
       "        text-align: right;\n",
       "    }\n",
       "</style>\n",
       "<table border=\"1\" class=\"dataframe\">\n",
       "  <thead>\n",
       "    <tr style=\"text-align: right;\">\n",
       "      <th></th>\n",
       "      <th>Absolute time</th>\n",
       "      <th>trace</th>\n",
       "      <th>value</th>\n",
       "    </tr>\n",
       "  </thead>\n",
       "  <tbody>\n",
       "    <tr>\n",
       "      <th>0</th>\n",
       "      <td>0</td>\n",
       "      <td>140.0</td>\n",
       "      <td>6.929464</td>\n",
       "    </tr>\n",
       "    <tr>\n",
       "      <th>1</th>\n",
       "      <td>1</td>\n",
       "      <td>140.0</td>\n",
       "      <td>6.964351</td>\n",
       "    </tr>\n",
       "    <tr>\n",
       "      <th>2</th>\n",
       "      <td>2</td>\n",
       "      <td>140.0</td>\n",
       "      <td>6.973203</td>\n",
       "    </tr>\n",
       "    <tr>\n",
       "      <th>3</th>\n",
       "      <td>3</td>\n",
       "      <td>140.0</td>\n",
       "      <td>6.974659</td>\n",
       "    </tr>\n",
       "    <tr>\n",
       "      <th>4</th>\n",
       "      <td>4</td>\n",
       "      <td>140.0</td>\n",
       "      <td>6.941163</td>\n",
       "    </tr>\n",
       "    <tr>\n",
       "      <th>...</th>\n",
       "      <td>...</td>\n",
       "      <td>...</td>\n",
       "      <td>...</td>\n",
       "    </tr>\n",
       "    <tr>\n",
       "      <th>1405</th>\n",
       "      <td>0</td>\n",
       "      <td>205.0</td>\n",
       "      <td>6.800940</td>\n",
       "    </tr>\n",
       "    <tr>\n",
       "      <th>1406</th>\n",
       "      <td>1</td>\n",
       "      <td>205.0</td>\n",
       "      <td>6.684783</td>\n",
       "    </tr>\n",
       "    <tr>\n",
       "      <th>1407</th>\n",
       "      <td>2</td>\n",
       "      <td>205.0</td>\n",
       "      <td>6.686730</td>\n",
       "    </tr>\n",
       "    <tr>\n",
       "      <th>1408</th>\n",
       "      <td>3</td>\n",
       "      <td>205.0</td>\n",
       "      <td>6.687513</td>\n",
       "    </tr>\n",
       "    <tr>\n",
       "      <th>1409</th>\n",
       "      <td>4</td>\n",
       "      <td>205.0</td>\n",
       "      <td>6.686474</td>\n",
       "    </tr>\n",
       "  </tbody>\n",
       "</table>\n",
       "<p>1410 rows × 3 columns</p>\n",
       "</div>"
      ],
      "text/plain": [
       "      Absolute time  trace     value\n",
       "0                 0  140.0  6.929464\n",
       "1                 1  140.0  6.964351\n",
       "2                 2  140.0  6.973203\n",
       "3                 3  140.0  6.974659\n",
       "4                 4  140.0  6.941163\n",
       "...             ...    ...       ...\n",
       "1405              0  205.0  6.800940\n",
       "1406              1  205.0  6.684783\n",
       "1407              2  205.0  6.686730\n",
       "1408              3  205.0  6.687513\n",
       "1409              4  205.0  6.686474\n",
       "\n",
       "[1410 rows x 3 columns]"
      ]
     },
     "execution_count": 49,
     "metadata": {},
     "output_type": "execute_result"
    }
   ],
   "source": [
    "df"
   ]
  }
 ],
 "metadata": {
  "kernelspec": {
   "display_name": "new_kernel",
   "language": "python",
   "name": "new_kernel"
  },
  "language_info": {
   "codemirror_mode": {
    "name": "ipython",
    "version": 3
   },
   "file_extension": ".py",
   "mimetype": "text/x-python",
   "name": "python",
   "nbconvert_exporter": "python",
   "pygments_lexer": "ipython3",
   "version": "3.7.6"
  }
 },
 "nbformat": 4,
 "nbformat_minor": 4
}
